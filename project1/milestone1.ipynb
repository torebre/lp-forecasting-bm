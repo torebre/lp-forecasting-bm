{
 "cells": [
  {
   "metadata": {},
   "cell_type": "markdown",
   "source": "# Data Manipulation: Forming a Weekly Time Series\n",
   "id": "2c52045d5a9e2b26"
  },
  {
   "cell_type": "code",
   "id": "initial_id",
   "metadata": {
    "collapsed": true,
    "ExecuteTime": {
     "end_time": "2024-09-16T13:26:50.970841Z",
     "start_time": "2024-09-16T13:26:50.765151Z"
    }
   },
   "source": [
    "import pandas as pd\n",
    "\n",
    "# Directory where the data has been downloaded\n",
    "data_dir = \"/home/student/workspace/lp-forecasting-bm/data\"\n",
    "\n",
    "data = pd.read_csv(data_dir +\"/H1.csv\")\n",
    "# How to concatenate columns: https://datatofish.com/concatenate-values-python/\n",
    "data[\"Date (Year and Week Number)\"] = data[\"ArrivalDateYear\"].map(str) + data[\"ArrivalDateWeekNumber\"].map(str)\n",
    "\n"
   ],
   "outputs": [],
   "execution_count": 6
  },
  {
   "metadata": {
    "ExecuteTime": {
     "end_time": "2024-09-16T13:26:54.774200Z",
     "start_time": "2024-09-16T13:26:54.740629Z"
    }
   },
   "cell_type": "code",
   "source": [
    "\n",
    "# Filter out the cancelled bookings\n",
    "cancelled_bookings_filter = data[\"IsCanceled\"] == 1\n",
    "cancelled_bookings = data[cancelled_bookings_filter]\n",
    "\n",
    "cancelled_by_year_and_week = cancelled_bookings.filter(items = [\"Date (Year and Week Number)\", \"IsCancelled\"]).groupby(\"Date (Year and Week Number)\")\n",
    "\n",
    "#cancelled_by_year_and_week.size()\n",
    "cancelled_by_year_and_week.value_counts()\n"
   ],
   "id": "aeac0c6e028cb178",
   "outputs": [
    {
     "data": {
      "text/plain": [
       "Date (Year and Week Number)\n",
       "201527     41\n",
       "201528     48\n",
       "201529     87\n",
       "201530     74\n",
       "201531    101\n",
       "         ... \n",
       "20175      51\n",
       "20176      91\n",
       "20177      96\n",
       "20178     128\n",
       "20179      77\n",
       "Name: count, Length: 115, dtype: int64"
      ]
     },
     "execution_count": 7,
     "metadata": {},
     "output_type": "execute_result"
    }
   ],
   "execution_count": 7
  },
  {
   "metadata": {},
   "cell_type": "code",
   "outputs": [],
   "execution_count": null,
   "source": "",
   "id": "75b27f9eea60b72c"
  }
 ],
 "metadata": {
  "kernelspec": {
   "display_name": "Python 3",
   "language": "python",
   "name": "python3"
  },
  "language_info": {
   "codemirror_mode": {
    "name": "ipython",
    "version": 2
   },
   "file_extension": ".py",
   "mimetype": "text/x-python",
   "name": "python",
   "nbconvert_exporter": "python",
   "pygments_lexer": "ipython2",
   "version": "2.7.6"
  }
 },
 "nbformat": 4,
 "nbformat_minor": 5
}
